{
  "nbformat": 4,
  "nbformat_minor": 0,
  "metadata": {
    "colab": {
      "provenance": [],
      "collapsed_sections": [
        "8bBDxxzeLsBW",
        "Bo10evkkMLCN",
        "MHWlpFt5MFl6"
      ]
    },
    "kernelspec": {
      "name": "python3",
      "display_name": "Python 3"
    },
    "language_info": {
      "name": "python"
    }
  },
  "cells": [
    {
      "cell_type": "markdown",
      "source": [
        "# Setting up GP-VTON"
      ],
      "metadata": {
        "id": "8bBDxxzeLsBW"
      }
    },
    {
      "cell_type": "code",
      "source": [
        "!git clone https://github.com/malikka-rajshahi/GP-VTON.git"
      ],
      "metadata": {
        "colab": {
          "base_uri": "https://localhost:8080/"
        },
        "id": "Jjh-iR0Tzbj5",
        "outputId": "41fb3252-6613-447a-d9b8-686e34b0b811"
      },
      "execution_count": 1,
      "outputs": [
        {
          "output_type": "stream",
          "name": "stdout",
          "text": [
            "Cloning into 'GP-VTON'...\n",
            "remote: Enumerating objects: 204, done.\u001b[K\n",
            "remote: Counting objects: 100% (105/105), done.\u001b[K\n",
            "remote: Compressing objects: 100% (70/70), done.\u001b[K\n",
            "remote: Total 204 (delta 45), reused 26 (delta 26), pack-reused 99\u001b[K\n",
            "Receiving objects: 100% (204/204), 5.51 MiB | 20.35 MiB/s, done.\n",
            "Resolving deltas: 100% (80/80), done.\n"
          ]
        }
      ]
    },
    {
      "cell_type": "code",
      "source": [
        "%cd /content/GP-VTON"
      ],
      "metadata": {
        "colab": {
          "base_uri": "https://localhost:8080/"
        },
        "id": "YJzULRhWr7lF",
        "outputId": "a927c0d5-3725-4765-dcbc-248dc9fdf8d9"
      },
      "execution_count": 2,
      "outputs": [
        {
          "output_type": "stream",
          "name": "stdout",
          "text": [
            "/content/GP-VTON\n"
          ]
        }
      ]
    },
    {
      "cell_type": "code",
      "source": [
        "!gdown 1LMhHHQFwiDtNsDa_BSi4vPo8IMPuAtRZ"
      ],
      "metadata": {
        "colab": {
          "base_uri": "https://localhost:8080/"
        },
        "id": "rSYi7dL5sOAq",
        "outputId": "5c991d33-73eb-43c5-bbe1-950f2e0ac74d"
      },
      "execution_count": 3,
      "outputs": [
        {
          "output_type": "stream",
          "name": "stdout",
          "text": [
            "Downloading...\n",
            "From (original): https://drive.google.com/uc?id=1LMhHHQFwiDtNsDa_BSi4vPo8IMPuAtRZ\n",
            "From (redirected): https://drive.google.com/uc?id=1LMhHHQFwiDtNsDa_BSi4vPo8IMPuAtRZ&confirm=t&uuid=47534f36-ea93-4e00-932c-0d8bfda7b9f4\n",
            "To: /content/GP-VTON/checkpoints.zip\n",
            "100% 944M/944M [00:08<00:00, 109MB/s]\n"
          ]
        }
      ]
    },
    {
      "cell_type": "code",
      "source": [
        "!unzip checkpoints.zip"
      ],
      "metadata": {
        "colab": {
          "base_uri": "https://localhost:8080/"
        },
        "id": "LWUXNBbgNAdZ",
        "outputId": "111792e2-9586-497d-9561-890f475e50c2"
      },
      "execution_count": 4,
      "outputs": [
        {
          "output_type": "stream",
          "name": "stdout",
          "text": [
            "Archive:  checkpoints.zip\n",
            "   creating: checkpoints/\n",
            "  inflating: __MACOSX/._checkpoints  \n",
            "   creating: checkpoints/gp-vton_gen_vitonhd_wskin_wgan_lrarms_1024_230722/\n",
            "  inflating: __MACOSX/checkpoints/._gp-vton_gen_vitonhd_wskin_wgan_lrarms_1024_230722  \n",
            "   creating: checkpoints/gp-vton_partflow_vitonhd_usepreservemask_lrarms_1027/\n",
            "  inflating: __MACOSX/checkpoints/._gp-vton_partflow_vitonhd_usepreservemask_lrarms_1027  \n",
            "   creating: checkpoints/gp-vton_gen_vitonhd_wskin_wgan_lrarms_1029/\n",
            "  inflating: __MACOSX/checkpoints/._gp-vton_gen_vitonhd_wskin_wgan_lrarms_1029  \n",
            "  inflating: checkpoints/gp-vton_gen_vitonhd_wskin_wgan_lrarms_1024_230722/PBAFN_D_epoch_201.pth  \n",
            "  inflating: __MACOSX/checkpoints/gp-vton_gen_vitonhd_wskin_wgan_lrarms_1024_230722/._PBAFN_D_epoch_201.pth  \n",
            "  inflating: checkpoints/gp-vton_gen_vitonhd_wskin_wgan_lrarms_1024_230722/PBAFN_gen_epoch_201.pth  \n",
            "  inflating: __MACOSX/checkpoints/gp-vton_gen_vitonhd_wskin_wgan_lrarms_1024_230722/._PBAFN_gen_epoch_201.pth  \n",
            "  inflating: checkpoints/gp-vton_partflow_vitonhd_usepreservemask_lrarms_1027/PBAFN_D_epoch_071.pth  \n",
            "  inflating: __MACOSX/checkpoints/gp-vton_partflow_vitonhd_usepreservemask_lrarms_1027/._PBAFN_D_epoch_071.pth  \n",
            "  inflating: checkpoints/gp-vton_partflow_vitonhd_usepreservemask_lrarms_1027/PBAFN_warp_epoch_121.pth  \n",
            "  inflating: __MACOSX/checkpoints/gp-vton_partflow_vitonhd_usepreservemask_lrarms_1027/._PBAFN_warp_epoch_121.pth  \n",
            "  inflating: checkpoints/gp-vton_partflow_vitonhd_usepreservemask_lrarms_1027/PBAFN_warp_epoch_071.pth  \n",
            "  inflating: __MACOSX/checkpoints/gp-vton_partflow_vitonhd_usepreservemask_lrarms_1027/._PBAFN_warp_epoch_071.pth  \n",
            "  inflating: checkpoints/gp-vton_partflow_vitonhd_usepreservemask_lrarms_1027/PBAFN_D_epoch_121.pth  \n",
            "  inflating: __MACOSX/checkpoints/gp-vton_partflow_vitonhd_usepreservemask_lrarms_1027/._PBAFN_D_epoch_121.pth  \n",
            "  inflating: checkpoints/gp-vton_gen_vitonhd_wskin_wgan_lrarms_1029/PBAFN_D_epoch_101.pth  \n",
            "  inflating: __MACOSX/checkpoints/gp-vton_gen_vitonhd_wskin_wgan_lrarms_1029/._PBAFN_D_epoch_101.pth  \n",
            "  inflating: checkpoints/gp-vton_gen_vitonhd_wskin_wgan_lrarms_1029/PBAFN_D_epoch_201.pth  \n",
            "  inflating: __MACOSX/checkpoints/gp-vton_gen_vitonhd_wskin_wgan_lrarms_1029/._PBAFN_D_epoch_201.pth  \n",
            "  inflating: checkpoints/gp-vton_gen_vitonhd_wskin_wgan_lrarms_1029/PBAFN_gen_epoch_201.pth  \n",
            "  inflating: __MACOSX/checkpoints/gp-vton_gen_vitonhd_wskin_wgan_lrarms_1029/._PBAFN_gen_epoch_201.pth  \n",
            "  inflating: checkpoints/gp-vton_gen_vitonhd_wskin_wgan_lrarms_1029/PBAFN_gen_epoch_101.pth  \n",
            "  inflating: __MACOSX/checkpoints/gp-vton_gen_vitonhd_wskin_wgan_lrarms_1029/._PBAFN_gen_epoch_101.pth  \n"
          ]
        }
      ]
    },
    {
      "cell_type": "code",
      "source": [
        "!rm -rf __MACOSX\n",
        "!rm -rf checkpoints.zip"
      ],
      "metadata": {
        "id": "iUyg2xJcNNo3"
      },
      "execution_count": 5,
      "outputs": []
    },
    {
      "cell_type": "code",
      "source": [
        "!pip install -r requirements.txt"
      ],
      "metadata": {
        "colab": {
          "base_uri": "https://localhost:8080/"
        },
        "id": "hbSPKQPiNga-",
        "outputId": "6aee0b31-0571-4fba-a37d-9a8f300e762f"
      },
      "execution_count": 6,
      "outputs": [
        {
          "output_type": "stream",
          "name": "stdout",
          "text": [
            "Requirement already satisfied: torch in /usr/local/lib/python3.10/dist-packages (from -r requirements.txt (line 2)) (2.3.0+cu121)\n",
            "Requirement already satisfied: torchvision in /usr/local/lib/python3.10/dist-packages (from -r requirements.txt (line 3)) (0.18.0+cu121)\n",
            "Requirement already satisfied: tensorboard in /usr/local/lib/python3.10/dist-packages (from -r requirements.txt (line 5)) (2.15.2)\n",
            "Collecting tensorboardX (from -r requirements.txt (line 7))\n",
            "  Downloading tensorboardX-2.6.2.2-py2.py3-none-any.whl (101 kB)\n",
            "\u001b[2K     \u001b[90m━━━━━━━━━━━━━━━━━━━━━━━━━━━━━━━━━━━━━━━━\u001b[0m \u001b[32m101.7/101.7 kB\u001b[0m \u001b[31m2.5 MB/s\u001b[0m eta \u001b[36m0:00:00\u001b[0m\n",
            "\u001b[?25hRequirement already satisfied: opencv-python in /usr/local/lib/python3.10/dist-packages (from -r requirements.txt (line 9)) (4.8.0.76)\n",
            "Requirement already satisfied: tqdm in /usr/local/lib/python3.10/dist-packages (from -r requirements.txt (line 11)) (4.66.4)\n",
            "Requirement already satisfied: pycocotools in /usr/local/lib/python3.10/dist-packages (from -r requirements.txt (line 12)) (2.0.7)\n",
            "Requirement already satisfied: scipy in /usr/local/lib/python3.10/dist-packages (from -r requirements.txt (line 14)) (1.11.4)\n",
            "Requirement already satisfied: numpy in /usr/local/lib/python3.10/dist-packages (from -r requirements.txt (line 18)) (1.25.2)\n",
            "Requirement already satisfied: filelock in /usr/local/lib/python3.10/dist-packages (from torch->-r requirements.txt (line 2)) (3.14.0)\n",
            "Requirement already satisfied: typing-extensions>=4.8.0 in /usr/local/lib/python3.10/dist-packages (from torch->-r requirements.txt (line 2)) (4.11.0)\n",
            "Requirement already satisfied: sympy in /usr/local/lib/python3.10/dist-packages (from torch->-r requirements.txt (line 2)) (1.12)\n",
            "Requirement already satisfied: networkx in /usr/local/lib/python3.10/dist-packages (from torch->-r requirements.txt (line 2)) (3.3)\n",
            "Requirement already satisfied: jinja2 in /usr/local/lib/python3.10/dist-packages (from torch->-r requirements.txt (line 2)) (3.1.4)\n",
            "Requirement already satisfied: fsspec in /usr/local/lib/python3.10/dist-packages (from torch->-r requirements.txt (line 2)) (2023.6.0)\n",
            "Collecting nvidia-cuda-nvrtc-cu12==12.1.105 (from torch->-r requirements.txt (line 2))\n",
            "  Using cached nvidia_cuda_nvrtc_cu12-12.1.105-py3-none-manylinux1_x86_64.whl (23.7 MB)\n",
            "Collecting nvidia-cuda-runtime-cu12==12.1.105 (from torch->-r requirements.txt (line 2))\n",
            "  Using cached nvidia_cuda_runtime_cu12-12.1.105-py3-none-manylinux1_x86_64.whl (823 kB)\n",
            "Collecting nvidia-cuda-cupti-cu12==12.1.105 (from torch->-r requirements.txt (line 2))\n",
            "  Using cached nvidia_cuda_cupti_cu12-12.1.105-py3-none-manylinux1_x86_64.whl (14.1 MB)\n",
            "Collecting nvidia-cudnn-cu12==8.9.2.26 (from torch->-r requirements.txt (line 2))\n",
            "  Using cached nvidia_cudnn_cu12-8.9.2.26-py3-none-manylinux1_x86_64.whl (731.7 MB)\n",
            "Collecting nvidia-cublas-cu12==12.1.3.1 (from torch->-r requirements.txt (line 2))\n",
            "  Using cached nvidia_cublas_cu12-12.1.3.1-py3-none-manylinux1_x86_64.whl (410.6 MB)\n",
            "Collecting nvidia-cufft-cu12==11.0.2.54 (from torch->-r requirements.txt (line 2))\n",
            "  Using cached nvidia_cufft_cu12-11.0.2.54-py3-none-manylinux1_x86_64.whl (121.6 MB)\n",
            "Collecting nvidia-curand-cu12==10.3.2.106 (from torch->-r requirements.txt (line 2))\n",
            "  Using cached nvidia_curand_cu12-10.3.2.106-py3-none-manylinux1_x86_64.whl (56.5 MB)\n",
            "Collecting nvidia-cusolver-cu12==11.4.5.107 (from torch->-r requirements.txt (line 2))\n",
            "  Using cached nvidia_cusolver_cu12-11.4.5.107-py3-none-manylinux1_x86_64.whl (124.2 MB)\n",
            "Collecting nvidia-cusparse-cu12==12.1.0.106 (from torch->-r requirements.txt (line 2))\n",
            "  Using cached nvidia_cusparse_cu12-12.1.0.106-py3-none-manylinux1_x86_64.whl (196.0 MB)\n",
            "Collecting nvidia-nccl-cu12==2.20.5 (from torch->-r requirements.txt (line 2))\n",
            "  Using cached nvidia_nccl_cu12-2.20.5-py3-none-manylinux2014_x86_64.whl (176.2 MB)\n",
            "Collecting nvidia-nvtx-cu12==12.1.105 (from torch->-r requirements.txt (line 2))\n",
            "  Using cached nvidia_nvtx_cu12-12.1.105-py3-none-manylinux1_x86_64.whl (99 kB)\n",
            "Requirement already satisfied: triton==2.3.0 in /usr/local/lib/python3.10/dist-packages (from torch->-r requirements.txt (line 2)) (2.3.0)\n",
            "Collecting nvidia-nvjitlink-cu12 (from nvidia-cusolver-cu12==11.4.5.107->torch->-r requirements.txt (line 2))\n",
            "  Downloading nvidia_nvjitlink_cu12-12.5.40-py3-none-manylinux2014_x86_64.whl (21.3 MB)\n",
            "\u001b[2K     \u001b[90m━━━━━━━━━━━━━━━━━━━━━━━━━━━━━━━━━━━━━━━━\u001b[0m \u001b[32m21.3/21.3 MB\u001b[0m \u001b[31m36.2 MB/s\u001b[0m eta \u001b[36m0:00:00\u001b[0m\n",
            "\u001b[?25hRequirement already satisfied: pillow!=8.3.*,>=5.3.0 in /usr/local/lib/python3.10/dist-packages (from torchvision->-r requirements.txt (line 3)) (9.4.0)\n",
            "Requirement already satisfied: absl-py>=0.4 in /usr/local/lib/python3.10/dist-packages (from tensorboard->-r requirements.txt (line 5)) (1.4.0)\n",
            "Requirement already satisfied: grpcio>=1.48.2 in /usr/local/lib/python3.10/dist-packages (from tensorboard->-r requirements.txt (line 5)) (1.64.0)\n",
            "Requirement already satisfied: google-auth<3,>=1.6.3 in /usr/local/lib/python3.10/dist-packages (from tensorboard->-r requirements.txt (line 5)) (2.27.0)\n",
            "Requirement already satisfied: google-auth-oauthlib<2,>=0.5 in /usr/local/lib/python3.10/dist-packages (from tensorboard->-r requirements.txt (line 5)) (1.2.0)\n",
            "Requirement already satisfied: markdown>=2.6.8 in /usr/local/lib/python3.10/dist-packages (from tensorboard->-r requirements.txt (line 5)) (3.6)\n",
            "Requirement already satisfied: protobuf!=4.24.0,>=3.19.6 in /usr/local/lib/python3.10/dist-packages (from tensorboard->-r requirements.txt (line 5)) (3.20.3)\n",
            "Requirement already satisfied: requests<3,>=2.21.0 in /usr/local/lib/python3.10/dist-packages (from tensorboard->-r requirements.txt (line 5)) (2.31.0)\n",
            "Requirement already satisfied: setuptools>=41.0.0 in /usr/local/lib/python3.10/dist-packages (from tensorboard->-r requirements.txt (line 5)) (67.7.2)\n",
            "Requirement already satisfied: six>1.9 in /usr/local/lib/python3.10/dist-packages (from tensorboard->-r requirements.txt (line 5)) (1.16.0)\n",
            "Requirement already satisfied: tensorboard-data-server<0.8.0,>=0.7.0 in /usr/local/lib/python3.10/dist-packages (from tensorboard->-r requirements.txt (line 5)) (0.7.2)\n",
            "Requirement already satisfied: werkzeug>=1.0.1 in /usr/local/lib/python3.10/dist-packages (from tensorboard->-r requirements.txt (line 5)) (3.0.3)\n",
            "Requirement already satisfied: packaging in /usr/local/lib/python3.10/dist-packages (from tensorboardX->-r requirements.txt (line 7)) (24.0)\n",
            "Requirement already satisfied: matplotlib>=2.1.0 in /usr/local/lib/python3.10/dist-packages (from pycocotools->-r requirements.txt (line 12)) (3.7.1)\n",
            "Requirement already satisfied: cachetools<6.0,>=2.0.0 in /usr/local/lib/python3.10/dist-packages (from google-auth<3,>=1.6.3->tensorboard->-r requirements.txt (line 5)) (5.3.3)\n",
            "Requirement already satisfied: pyasn1-modules>=0.2.1 in /usr/local/lib/python3.10/dist-packages (from google-auth<3,>=1.6.3->tensorboard->-r requirements.txt (line 5)) (0.4.0)\n",
            "Requirement already satisfied: rsa<5,>=3.1.4 in /usr/local/lib/python3.10/dist-packages (from google-auth<3,>=1.6.3->tensorboard->-r requirements.txt (line 5)) (4.9)\n",
            "Requirement already satisfied: requests-oauthlib>=0.7.0 in /usr/local/lib/python3.10/dist-packages (from google-auth-oauthlib<2,>=0.5->tensorboard->-r requirements.txt (line 5)) (1.3.1)\n",
            "Requirement already satisfied: contourpy>=1.0.1 in /usr/local/lib/python3.10/dist-packages (from matplotlib>=2.1.0->pycocotools->-r requirements.txt (line 12)) (1.2.1)\n",
            "Requirement already satisfied: cycler>=0.10 in /usr/local/lib/python3.10/dist-packages (from matplotlib>=2.1.0->pycocotools->-r requirements.txt (line 12)) (0.12.1)\n",
            "Requirement already satisfied: fonttools>=4.22.0 in /usr/local/lib/python3.10/dist-packages (from matplotlib>=2.1.0->pycocotools->-r requirements.txt (line 12)) (4.51.0)\n",
            "Requirement already satisfied: kiwisolver>=1.0.1 in /usr/local/lib/python3.10/dist-packages (from matplotlib>=2.1.0->pycocotools->-r requirements.txt (line 12)) (1.4.5)\n",
            "Requirement already satisfied: pyparsing>=2.3.1 in /usr/local/lib/python3.10/dist-packages (from matplotlib>=2.1.0->pycocotools->-r requirements.txt (line 12)) (3.1.2)\n",
            "Requirement already satisfied: python-dateutil>=2.7 in /usr/local/lib/python3.10/dist-packages (from matplotlib>=2.1.0->pycocotools->-r requirements.txt (line 12)) (2.8.2)\n",
            "Requirement already satisfied: charset-normalizer<4,>=2 in /usr/local/lib/python3.10/dist-packages (from requests<3,>=2.21.0->tensorboard->-r requirements.txt (line 5)) (3.3.2)\n",
            "Requirement already satisfied: idna<4,>=2.5 in /usr/local/lib/python3.10/dist-packages (from requests<3,>=2.21.0->tensorboard->-r requirements.txt (line 5)) (3.7)\n",
            "Requirement already satisfied: urllib3<3,>=1.21.1 in /usr/local/lib/python3.10/dist-packages (from requests<3,>=2.21.0->tensorboard->-r requirements.txt (line 5)) (2.0.7)\n",
            "Requirement already satisfied: certifi>=2017.4.17 in /usr/local/lib/python3.10/dist-packages (from requests<3,>=2.21.0->tensorboard->-r requirements.txt (line 5)) (2024.2.2)\n",
            "Requirement already satisfied: MarkupSafe>=2.1.1 in /usr/local/lib/python3.10/dist-packages (from werkzeug>=1.0.1->tensorboard->-r requirements.txt (line 5)) (2.1.5)\n",
            "Requirement already satisfied: mpmath>=0.19 in /usr/local/lib/python3.10/dist-packages (from sympy->torch->-r requirements.txt (line 2)) (1.3.0)\n",
            "Requirement already satisfied: pyasn1<0.7.0,>=0.4.6 in /usr/local/lib/python3.10/dist-packages (from pyasn1-modules>=0.2.1->google-auth<3,>=1.6.3->tensorboard->-r requirements.txt (line 5)) (0.6.0)\n",
            "Requirement already satisfied: oauthlib>=3.0.0 in /usr/local/lib/python3.10/dist-packages (from requests-oauthlib>=0.7.0->google-auth-oauthlib<2,>=0.5->tensorboard->-r requirements.txt (line 5)) (3.2.2)\n",
            "Installing collected packages: tensorboardX, nvidia-nvtx-cu12, nvidia-nvjitlink-cu12, nvidia-nccl-cu12, nvidia-curand-cu12, nvidia-cufft-cu12, nvidia-cuda-runtime-cu12, nvidia-cuda-nvrtc-cu12, nvidia-cuda-cupti-cu12, nvidia-cublas-cu12, nvidia-cusparse-cu12, nvidia-cudnn-cu12, nvidia-cusolver-cu12\n",
            "Successfully installed nvidia-cublas-cu12-12.1.3.1 nvidia-cuda-cupti-cu12-12.1.105 nvidia-cuda-nvrtc-cu12-12.1.105 nvidia-cuda-runtime-cu12-12.1.105 nvidia-cudnn-cu12-8.9.2.26 nvidia-cufft-cu12-11.0.2.54 nvidia-curand-cu12-10.3.2.106 nvidia-cusolver-cu12-11.4.5.107 nvidia-cusparse-cu12-12.1.0.106 nvidia-nccl-cu12-2.20.5 nvidia-nvjitlink-cu12-12.5.40 nvidia-nvtx-cu12-12.1.105 tensorboardX-2.6.2.2\n"
          ]
        }
      ]
    },
    {
      "cell_type": "code",
      "source": [
        "import torch\n",
        "\n",
        "cuda_available = torch.cuda.is_available()\n",
        "print(f\"CUDA Available: {cuda_available}\")\n",
        "\n",
        "num_gpus = torch.cuda.device_count()\n",
        "print(f\"Number of GPUs: {num_gpus}\")\n",
        "\n",
        "for i in range(num_gpus):\n",
        "    gpu_name = torch.cuda.get_device_name(i)\n",
        "    print(f\"GPU {i}: {gpu_name}\")"
      ],
      "metadata": {
        "colab": {
          "base_uri": "https://localhost:8080/"
        },
        "id": "r87PhjmiT3Yd",
        "outputId": "ce0b9aaa-a679-4755-828e-82e306fe9113"
      },
      "execution_count": 7,
      "outputs": [
        {
          "output_type": "stream",
          "name": "stdout",
          "text": [
            "CUDA Available: False\n",
            "Number of GPUs: 0\n"
          ]
        }
      ]
    },
    {
      "cell_type": "code",
      "source": [
        "import os\n",
        "\n",
        "os.environ[\"CUDA_VISIBLE_DEVICES\"] = \"0\"\n",
        "\n",
        "cuda_visible_devices = os.getenv('CUDA_VISIBLE_DEVICES')\n",
        "print(f\"CUDA_VISIBLE_DEVICES: {cuda_visible_devices}\")"
      ],
      "metadata": {
        "id": "wxeg3vDAUPoi",
        "colab": {
          "base_uri": "https://localhost:8080/"
        },
        "outputId": "7e90c509-8d1a-4293-f611-4b7d835ec624"
      },
      "execution_count": 8,
      "outputs": [
        {
          "output_type": "stream",
          "name": "stdout",
          "text": [
            "CUDA_VISIBLE_DEVICES: 0\n"
          ]
        }
      ]
    },
    {
      "cell_type": "markdown",
      "source": [
        "# Running Cloth Mask"
      ],
      "metadata": {
        "id": "Bo10evkkMLCN"
      }
    },
    {
      "cell_type": "code",
      "source": [
        "!python cloth_mask.py"
      ],
      "metadata": {
        "colab": {
          "base_uri": "https://localhost:8080/"
        },
        "id": "YyIHVfJJMWV8",
        "outputId": "299e044b-9b90-43cf-aa66-78f1bdd70aa0"
      },
      "execution_count": 13,
      "outputs": [
        {
          "output_type": "stream",
          "name": "stdout",
          "text": [
            "Running cloth mask\n",
            "Cloth mask saved at: dataroot/test/cloth-mask/08015_00.jpg\n",
            "Cloth mask saved at: dataroot/test/cloth-mask/01944_00.jpg\n",
            "Cloth mask saved at: dataroot/test/cloth-mask/11001_00.jpg\n",
            "Cloth mask saved at: dataroot/test/cloth-mask/14096_00.jpg\n",
            "Cloth mask saved at: dataroot/test/cloth-mask/03921_00.jpg\n",
            "Cloth mask saved at: dataroot/test/cloth-mask/12419_00.jpg\n",
            "Cloth mask saved at: dataroot/test/cloth-mask/02532_00.jpg\n",
            "Cloth mask saved at: dataroot/test/cloth-mask/05006_00.jpg\n",
            "Done with cloth mask.\n",
            "Execution time: 0.3991 seconds\n",
            "----------------------------------------------------------------------------------------\n"
          ]
        }
      ]
    },
    {
      "cell_type": "markdown",
      "source": [
        "# Running Openpose/Densepose"
      ],
      "metadata": {
        "id": "cBYOej-LOhig"
      }
    },
    {
      "cell_type": "code",
      "source": [
        "!pip install mediapipe"
      ],
      "metadata": {
        "colab": {
          "base_uri": "https://localhost:8080/"
        },
        "id": "nyu8fYF1MXGJ",
        "outputId": "e281ef0e-04c3-4912-e4c7-06321a4951e8"
      },
      "execution_count": 15,
      "outputs": [
        {
          "output_type": "stream",
          "name": "stdout",
          "text": [
            "Collecting mediapipe\n",
            "  Downloading mediapipe-0.10.14-cp310-cp310-manylinux_2_17_x86_64.manylinux2014_x86_64.whl (35.7 MB)\n",
            "\u001b[2K     \u001b[90m━━━━━━━━━━━━━━━━━━━━━━━━━━━━━━━━━━━━━━━━\u001b[0m \u001b[32m35.7/35.7 MB\u001b[0m \u001b[31m23.6 MB/s\u001b[0m eta \u001b[36m0:00:00\u001b[0m\n",
            "\u001b[?25hRequirement already satisfied: absl-py in /usr/local/lib/python3.10/dist-packages (from mediapipe) (1.4.0)\n",
            "Requirement already satisfied: attrs>=19.1.0 in /usr/local/lib/python3.10/dist-packages (from mediapipe) (23.2.0)\n",
            "Requirement already satisfied: flatbuffers>=2.0 in /usr/local/lib/python3.10/dist-packages (from mediapipe) (24.3.25)\n",
            "Requirement already satisfied: jax in /usr/local/lib/python3.10/dist-packages (from mediapipe) (0.4.26)\n",
            "Requirement already satisfied: jaxlib in /usr/local/lib/python3.10/dist-packages (from mediapipe) (0.4.26+cuda12.cudnn89)\n",
            "Requirement already satisfied: matplotlib in /usr/local/lib/python3.10/dist-packages (from mediapipe) (3.7.1)\n",
            "Requirement already satisfied: numpy in /usr/local/lib/python3.10/dist-packages (from mediapipe) (1.25.2)\n",
            "Requirement already satisfied: opencv-contrib-python in /usr/local/lib/python3.10/dist-packages (from mediapipe) (4.8.0.76)\n",
            "Collecting protobuf<5,>=4.25.3 (from mediapipe)\n",
            "  Downloading protobuf-4.25.3-cp37-abi3-manylinux2014_x86_64.whl (294 kB)\n",
            "\u001b[2K     \u001b[90m━━━━━━━━━━━━━━━━━━━━━━━━━━━━━━━━━━━━━━━━\u001b[0m \u001b[32m294.6/294.6 kB\u001b[0m \u001b[31m29.4 MB/s\u001b[0m eta \u001b[36m0:00:00\u001b[0m\n",
            "\u001b[?25hCollecting sounddevice>=0.4.4 (from mediapipe)\n",
            "  Downloading sounddevice-0.4.7-py3-none-any.whl (32 kB)\n",
            "Requirement already satisfied: CFFI>=1.0 in /usr/local/lib/python3.10/dist-packages (from sounddevice>=0.4.4->mediapipe) (1.16.0)\n",
            "Requirement already satisfied: ml-dtypes>=0.2.0 in /usr/local/lib/python3.10/dist-packages (from jax->mediapipe) (0.2.0)\n",
            "Requirement already satisfied: opt-einsum in /usr/local/lib/python3.10/dist-packages (from jax->mediapipe) (3.3.0)\n",
            "Requirement already satisfied: scipy>=1.9 in /usr/local/lib/python3.10/dist-packages (from jax->mediapipe) (1.11.4)\n",
            "Requirement already satisfied: contourpy>=1.0.1 in /usr/local/lib/python3.10/dist-packages (from matplotlib->mediapipe) (1.2.1)\n",
            "Requirement already satisfied: cycler>=0.10 in /usr/local/lib/python3.10/dist-packages (from matplotlib->mediapipe) (0.12.1)\n",
            "Requirement already satisfied: fonttools>=4.22.0 in /usr/local/lib/python3.10/dist-packages (from matplotlib->mediapipe) (4.51.0)\n",
            "Requirement already satisfied: kiwisolver>=1.0.1 in /usr/local/lib/python3.10/dist-packages (from matplotlib->mediapipe) (1.4.5)\n",
            "Requirement already satisfied: packaging>=20.0 in /usr/local/lib/python3.10/dist-packages (from matplotlib->mediapipe) (24.0)\n",
            "Requirement already satisfied: pillow>=6.2.0 in /usr/local/lib/python3.10/dist-packages (from matplotlib->mediapipe) (9.4.0)\n",
            "Requirement already satisfied: pyparsing>=2.3.1 in /usr/local/lib/python3.10/dist-packages (from matplotlib->mediapipe) (3.1.2)\n",
            "Requirement already satisfied: python-dateutil>=2.7 in /usr/local/lib/python3.10/dist-packages (from matplotlib->mediapipe) (2.8.2)\n",
            "Requirement already satisfied: pycparser in /usr/local/lib/python3.10/dist-packages (from CFFI>=1.0->sounddevice>=0.4.4->mediapipe) (2.22)\n",
            "Requirement already satisfied: six>=1.5 in /usr/local/lib/python3.10/dist-packages (from python-dateutil>=2.7->matplotlib->mediapipe) (1.16.0)\n",
            "Installing collected packages: protobuf, sounddevice, mediapipe\n",
            "  Attempting uninstall: protobuf\n",
            "    Found existing installation: protobuf 3.20.3\n",
            "    Uninstalling protobuf-3.20.3:\n",
            "      Successfully uninstalled protobuf-3.20.3\n",
            "\u001b[31mERROR: pip's dependency resolver does not currently take into account all the packages that are installed. This behaviour is the source of the following dependency conflicts.\n",
            "tensorflow-metadata 1.15.0 requires protobuf<4.21,>=3.20.3; python_version < \"3.11\", but you have protobuf 4.25.3 which is incompatible.\u001b[0m\u001b[31m\n",
            "\u001b[0mSuccessfully installed mediapipe-0.10.14 protobuf-4.25.3 sounddevice-0.4.7\n"
          ]
        }
      ]
    },
    {
      "cell_type": "code",
      "source": [
        "!git clone https://github.com/facebookresearch/detectron2\n",
        "!mkdir DensePose\n",
        "!mv detectron2 DensePose"
      ],
      "metadata": {
        "id": "i4X0ETZ-MW-P"
      },
      "execution_count": null,
      "outputs": []
    },
    {
      "cell_type": "code",
      "source": [
        "!python -m pip install 'git+https://github.com/facebookresearch/detectron2.git'"
      ],
      "metadata": {
        "id": "KiAFVrTJWavh"
      },
      "execution_count": null,
      "outputs": []
    },
    {
      "cell_type": "code",
      "source": [
        "!pip install av"
      ],
      "metadata": {
        "colab": {
          "base_uri": "https://localhost:8080/"
        },
        "id": "FHl0AqO6cqB_",
        "outputId": "300874c2-3cef-42c7-cb3e-d7cbef3d5869"
      },
      "execution_count": 56,
      "outputs": [
        {
          "output_type": "stream",
          "name": "stdout",
          "text": [
            "Collecting av\n",
            "  Downloading av-12.0.0-cp310-cp310-manylinux_2_17_x86_64.manylinux2014_x86_64.whl (33.8 MB)\n",
            "\u001b[2K     \u001b[90m━━━━━━━━━━━━━━━━━━━━━━━━━━━━━━━━━━━━━━━━\u001b[0m \u001b[32m33.8/33.8 MB\u001b[0m \u001b[31m34.0 MB/s\u001b[0m eta \u001b[36m0:00:00\u001b[0m\n",
            "\u001b[?25hInstalling collected packages: av\n",
            "Successfully installed av-12.0.0\n"
          ]
        }
      ]
    },
    {
      "cell_type": "code",
      "source": [
        "!python openpose_densepose.py"
      ],
      "metadata": {
        "colab": {
          "base_uri": "https://localhost:8080/"
        },
        "id": "4NUdGJlgUJ6l",
        "outputId": "46b92fcf-9265-449a-b8c1-a9e07ae84e34"
      },
      "execution_count": 67,
      "outputs": [
        {
          "output_type": "stream",
          "name": "stdout",
          "text": [
            "2024-05-28 13:59:59.110653: E external/local_xla/xla/stream_executor/cuda/cuda_dnn.cc:9261] Unable to register cuDNN factory: Attempting to register factory for plugin cuDNN when one has already been registered\n",
            "2024-05-28 13:59:59.110719: E external/local_xla/xla/stream_executor/cuda/cuda_fft.cc:607] Unable to register cuFFT factory: Attempting to register factory for plugin cuFFT when one has already been registered\n",
            "2024-05-28 13:59:59.112475: E external/local_xla/xla/stream_executor/cuda/cuda_blas.cc:1515] Unable to register cuBLAS factory: Attempting to register factory for plugin cuBLAS when one has already been registered\n",
            "2024-05-28 13:59:59.123357: I tensorflow/core/platform/cpu_feature_guard.cc:182] This TensorFlow binary is optimized to use available CPU instructions in performance-critical operations.\n",
            "To enable the following instructions: AVX2 FMA, in other operations, rebuild TensorFlow with the appropriate compiler flags.\n",
            "2024-05-28 14:00:00.734388: W tensorflow/compiler/tf2tensorrt/utils/py_utils.cc:38] TF-TRT Warning: Could not find TensorRT\n",
            "Running openpose and densepose\n",
            "['03921_00.jpg', '12419_00.jpg', '02532_00.jpg', '05006_00.jpg']\n",
            "dataroot/test/image/03921_00.jpg\n",
            "INFO: Created TensorFlow Lite XNNPACK delegate for CPU.\n",
            "WARNING: All log messages before absl::InitializeLog() is called are written to STDERR\n",
            "W0000 00:00:1716904805.122626   25004 inference_feedback_manager.cc:114] Feedback manager requires a model with a single signature inference. Disabling support for feedback tensors.\n",
            "W0000 00:00:1716904805.393113   25004 inference_feedback_manager.cc:114] Feedback manager requires a model with a single signature inference. Disabling support for feedback tensors.\n",
            "/usr/local/lib/python3.10/dist-packages/google/protobuf/symbol_database.py:55: UserWarning: SymbolDatabase.GetPrototype() is deprecated. Please use message_factory.GetMessageClass() instead. SymbolDatabase.GetPrototype() will be removed soon.\n",
            "  warnings.warn('SymbolDatabase.GetPrototype() is deprecated. Please '\n",
            "dataroot/test/image/12419_00.jpg\n",
            "W0000 00:00:1716904805.787161   25009 inference_feedback_manager.cc:114] Feedback manager requires a model with a single signature inference. Disabling support for feedback tensors.\n",
            "W0000 00:00:1716904805.970932   25009 inference_feedback_manager.cc:114] Feedback manager requires a model with a single signature inference. Disabling support for feedback tensors.\n",
            "dataroot/test/image/02532_00.jpg\n",
            "W0000 00:00:1716904806.363217   25011 inference_feedback_manager.cc:114] Feedback manager requires a model with a single signature inference. Disabling support for feedback tensors.\n",
            "W0000 00:00:1716904806.600626   25011 inference_feedback_manager.cc:114] Feedback manager requires a model with a single signature inference. Disabling support for feedback tensors.\n",
            "dataroot/test/image/05006_00.jpg\n",
            "W0000 00:00:1716904806.947742   25017 inference_feedback_manager.cc:114] Feedback manager requires a model with a single signature inference. Disabling support for feedback tensors.\n",
            "W0000 00:00:1716904807.105479   25017 inference_feedback_manager.cc:114] Feedback manager requires a model with a single signature inference. Disabling support for feedback tensors.\n",
            "\u001b[32m[05/28 14:00:11 apply_net]: \u001b[0mLoading config from DensePose/detectron2/projects/DensePose/configs/densepose_rcnn_R_50_FPN_s1x.yaml\n",
            "\u001b[32m[05/28 14:00:11 apply_net]: \u001b[0mLoading model from https://dl.fbaipublicfiles.com/densepose/densepose_rcnn_R_50_FPN_s1x/165712039/model_final_162be9.pkl\n",
            "\u001b[32m[05/28 14:00:13 apply_net]: \u001b[0mLoading data from dataroot/test/image\n",
            "/usr/local/lib/python3.10/dist-packages/torch/functional.py:512: UserWarning: torch.meshgrid: in an upcoming release, it will be required to pass the indexing argument. (Triggered internally at ../aten/src/ATen/native/TensorShape.cpp:3587.)\n",
            "  return _VF.meshgrid(tensors, **kwargs)  # type: ignore[attr-defined]\n",
            "\u001b[32m[05/28 14:00:27 apply_net]: \u001b[0mProcessing dataroot/test/image/03921_00.jpg\n",
            "\u001b[32m[05/28 14:00:28 apply_net]: \u001b[0mOutput saved to outputres.0001.png\n",
            "\u001b[32m[05/28 14:00:41 apply_net]: \u001b[0mProcessing dataroot/test/image/12419_00.jpg\n",
            "\u001b[32m[05/28 14:00:41 apply_net]: \u001b[0mOutput saved to outputres.0002.png\n",
            "\u001b[32m[05/28 14:00:54 apply_net]: \u001b[0mProcessing dataroot/test/image/02532_00.jpg\n",
            "\u001b[32m[05/28 14:00:55 apply_net]: \u001b[0mOutput saved to outputres.0003.png\n",
            "\u001b[32m[05/28 14:01:08 apply_net]: \u001b[0mProcessing dataroot/test/image/05006_00.jpg\n",
            "\u001b[32m[05/28 14:01:09 apply_net]: \u001b[0mOutput saved to outputres.0004.png\n",
            "Done with openpose and densepose.\n",
            "Execution time: 65.7718 seconds\n",
            "----------------------------------------------------------------------------------------\n"
          ]
        }
      ]
    },
    {
      "cell_type": "code",
      "source": [
        "!mv *.png dataroot/test/image-densepose"
      ],
      "metadata": {
        "id": "Hm7gsoc6gXWb"
      },
      "execution_count": 68,
      "outputs": []
    },
    {
      "cell_type": "markdown",
      "source": [
        "# Running Human Parse"
      ],
      "metadata": {
        "id": "xz1XcPvzPwuj"
      }
    },
    {
      "cell_type": "code",
      "source": [],
      "metadata": {
        "id": "RjtwsM3QPwjx"
      },
      "execution_count": null,
      "outputs": []
    },
    {
      "cell_type": "code",
      "source": [],
      "metadata": {
        "id": "TgagofzkPwgp"
      },
      "execution_count": null,
      "outputs": []
    },
    {
      "cell_type": "code",
      "source": [],
      "metadata": {
        "id": "6SzoPySQPwcy"
      },
      "execution_count": null,
      "outputs": []
    },
    {
      "cell_type": "code",
      "source": [],
      "metadata": {
        "id": "Fww0EL7VPwS7"
      },
      "execution_count": null,
      "outputs": []
    },
    {
      "cell_type": "markdown",
      "source": [
        "# Running Parse Agnostic"
      ],
      "metadata": {
        "id": "HdmIjBFhg66Z"
      }
    },
    {
      "cell_type": "code",
      "source": [],
      "metadata": {
        "id": "Vpua_O3hg7Lm"
      },
      "execution_count": null,
      "outputs": []
    },
    {
      "cell_type": "code",
      "source": [],
      "metadata": {
        "id": "k2x5qp4ug8Go"
      },
      "execution_count": null,
      "outputs": []
    },
    {
      "cell_type": "code",
      "source": [],
      "metadata": {
        "id": "qWxH9QH_g8EJ"
      },
      "execution_count": null,
      "outputs": []
    },
    {
      "cell_type": "code",
      "source": [],
      "metadata": {
        "id": "wB_Dw6URg8BS"
      },
      "execution_count": null,
      "outputs": []
    },
    {
      "cell_type": "code",
      "source": [],
      "metadata": {
        "id": "16tMb5HGg7--"
      },
      "execution_count": null,
      "outputs": []
    },
    {
      "cell_type": "markdown",
      "source": [
        "# Running Image Agnostic"
      ],
      "metadata": {
        "id": "Ii3HmLOyhC_y"
      }
    },
    {
      "cell_type": "code",
      "source": [],
      "metadata": {
        "id": "7L6-79YehFd7"
      },
      "execution_count": null,
      "outputs": []
    },
    {
      "cell_type": "code",
      "source": [],
      "metadata": {
        "id": "28KYa0QmhFbT"
      },
      "execution_count": null,
      "outputs": []
    },
    {
      "cell_type": "code",
      "source": [],
      "metadata": {
        "id": "uD0MKdZThFY1"
      },
      "execution_count": null,
      "outputs": []
    },
    {
      "cell_type": "code",
      "source": [],
      "metadata": {
        "id": "RI7ds09FhFWX"
      },
      "execution_count": null,
      "outputs": []
    },
    {
      "cell_type": "code",
      "source": [],
      "metadata": {
        "id": "Kc-J7Yh8hFTs"
      },
      "execution_count": null,
      "outputs": []
    },
    {
      "cell_type": "markdown",
      "source": [
        "# Running GP-VTON"
      ],
      "metadata": {
        "id": "MHWlpFt5MFl6"
      }
    },
    {
      "cell_type": "code",
      "source": [
        "!torchrun --nproc_per_node=8 --master_port=4736 test_tryon.py \\\n",
        "    --name test1 \\\n",
        "    --resize_or_crop None --verbose --tf_log \\\n",
        "    --dataset vitonhd --resolution 512 \\\n",
        "    --batchSize 12 --num_gpus 1 --label_nc 14 --launcher pytorch \\\n",
        "    --PBAFN_gen_checkpoint 'checkpoints/gp-vton_gen_vitonhd_wskin_wgan_lrarms_1029/PBAFN_gen_epoch_201.pth' \\\n",
        "    --dataroot /content/GP-VTON/dataroot/ \\\n",
        "    --image_pairs_txt test_pairs.txt \\\n",
        "    --warproot sample/test_partflow_vitonhd_unpaired_1109"
      ],
      "metadata": {
        "colab": {
          "base_uri": "https://localhost:8080/"
        },
        "id": "0ypMrLmxNomp",
        "outputId": "d722c384-e892-4155-b448-0976b4f2f519"
      },
      "execution_count": 11,
      "outputs": [
        {
          "output_type": "stream",
          "name": "stdout",
          "text": [
            "------------ Options -------------\n",
            "CPM_D_checkpoint: None\n",
            "CPM_checkpoint: None\n",
            "PBAFN_gen_checkpoint: checkpoints/gp-vton_gen_vitonhd_wskin_wgan_lrarms_1029/PBAFN_gen_epoch_201.pth\n",
            "PBAFN_warp_checkpoint: None\n",
            "PFAFN_gen_checkpoint: None\n",
            "PFAFN_warp_checkpoint: None\n",
            "add_mask_tvloss: False\n",
            "batchSize: 12\n",
            "beta1: 0.5\n",
            "checkpoints_dir: ./checkpoints\n",
            "continue_train: False\n",
            "data_type: 32\n",
            "dataroot: /content/GP-VTON/dataroot/\n",
            "dataset: vitonhd\n",
            "debug: False\n",
            "debug_test: False\n",
            "debug_train: False\n",
            "display_freq: 100\n",
            "display_freq_eval: 100\n",
            "display_winsize: 512\n",
            "fineSize: 512\n",
            "first_order_smooth_weight: 0.01\n",
            "gpu_ids: [0]\n",
            "image_pairs_txt: test_pairs.txt\n",
            "image_pairs_txt_eval: \n",
            "image_test_pairs_txt: \n",
            "input_nc: 3\n",
            "isTrain: True\n",
            "label_nc: 14\n",
            "lambda_feat: 10.0\n",
            "launcher: pytorch\n",
            "loadSize: 512\n",
            "load_pretrain: \n",
            "local_rank: 0\n",
            "loss_ce: 1\n",
            "loss_gan: 1\n",
            "lr: 5e-05\n",
            "lr_D: 5e-05\n",
            "mask_epoch: -1\n",
            "max_dataset_size: inf\n",
            "nThreads: 1\n",
            "n_blocks_global: 4\n",
            "n_blocks_local: 3\n",
            "n_downsample_global: 4\n",
            "n_layers_D: 3\n",
            "n_local_enhancers: 1\n",
            "name: test1\n",
            "ndf: 64\n",
            "netG: global\n",
            "ngf: 64\n",
            "niter: 50\n",
            "niter_decay: 50\n",
            "niter_fix_global: 0\n",
            "no_dynamic_mask: False\n",
            "no_flip: False\n",
            "no_ganFeat_loss: False\n",
            "no_html: False\n",
            "no_lsgan: False\n",
            "no_vgg_loss: False\n",
            "norm: instance\n",
            "num_D: 2\n",
            "num_gpus: 8\n",
            "output_nc: 3\n",
            "phase: train\n",
            "pool_size: 0\n",
            "pretrain_checkpoint_D: None\n",
            "print_freq: 100\n",
            "repeat_num: 6\n",
            "resize_or_crop: None\n",
            "resolution: 512\n",
            "save_epoch_freq: 20\n",
            "save_latest_freq: 1000\n",
            "serial_batches: False\n",
            "squaretv_weight: 1\n",
            "test_flip: False\n",
            "tf_log: True\n",
            "tv_weight: 0.1\n",
            "use_dropout: False\n",
            "use_preserve_mask_refine: False\n",
            "verbose: True\n",
            "warproot: sample/test_partflow_vitonhd_unpaired_1109\n",
            "which_epoch: latest\n",
            "write_loss_frep: 100\n",
            "write_loss_frep_eval: 100\n",
            "-------------- End ----------------\n",
            "------------ Options -------------\n",
            "CPM_D_checkpoint: None\n",
            "CPM_checkpoint: None\n",
            "PBAFN_gen_checkpoint: checkpoints/gp-vton_gen_vitonhd_wskin_wgan_lrarms_1029/PBAFN_gen_epoch_201.pth\n",
            "PBAFN_warp_checkpoint: None\n",
            "PFAFN_gen_checkpoint: None\n",
            "PFAFN_warp_checkpoint: None\n",
            "add_mask_tvloss: False\n",
            "batchSize: 12\n",
            "beta1: 0.5\n",
            "checkpoints_dir: ./checkpoints\n",
            "continue_train: False\n",
            "data_type: 32\n",
            "dataroot: /content/GP-VTON/dataroot/\n",
            "dataset: vitonhd\n",
            "debug: False\n",
            "debug_test: False\n",
            "debug_train: False\n",
            "display_freq: 100\n",
            "display_freq_eval: 100\n",
            "display_winsize: 512\n",
            "fineSize: 512\n",
            "first_order_smooth_weight: 0.01\n",
            "gpu_ids: [0]\n",
            "image_pairs_txt: test_pairs.txt\n",
            "image_pairs_txt_eval: \n",
            "image_test_pairs_txt: \n",
            "input_nc: 3\n",
            "isTrain: True\n",
            "label_nc: 14\n",
            "lambda_feat: 10.0\n",
            "launcher: pytorch\n",
            "loadSize: 512\n",
            "load_pretrain: \n",
            "local_rank: 0\n",
            "loss_ce: 1\n",
            "loss_gan: 1\n",
            "lr: 5e-05\n",
            "lr_D: 5e-05\n",
            "mask_epoch: -1\n",
            "max_dataset_size: inf\n",
            "nThreads: 1\n",
            "n_blocks_global: 4\n",
            "n_blocks_local: 3\n",
            "n_downsample_global: 4\n",
            "n_layers_D: 3\n",
            "n_local_enhancers: 1\n",
            "name: test1\n",
            "ndf: 64\n",
            "netG: global\n",
            "ngf: 64\n",
            "niter: 50\n",
            "niter_decay: 50\n",
            "niter_fix_global: 0\n",
            "no_dynamic_mask: False\n",
            "no_flip: False\n",
            "no_ganFeat_loss: False\n",
            "no_html: False\n",
            "no_lsgan: False\n",
            "no_vgg_loss: False\n",
            "norm: instance\n",
            "num_D: 2\n",
            "num_gpus: 8\n",
            "output_nc: 3\n",
            "phase: train\n",
            "pool_size: 0\n",
            "pretrain_checkpoint_D: None\n",
            "print_freq: 100\n",
            "repeat_num: 6\n",
            "resize_or_crop: None\n",
            "resolution: 512\n",
            "save_epoch_freq: 20\n",
            "save_latest_freq: 1000\n",
            "serial_batches: False\n",
            "squaretv_weight: 1\n",
            "test_flip: False\n",
            "tf_log: True\n",
            "tv_weight: 0.1\n",
            "use_dropout: False\n",
            "use_preserve_mask_refine: False\n",
            "verbose: True\n",
            "warproot: sample/test_partflow_vitonhd_unpaired_1109\n",
            "which_epoch: latest\n",
            "write_loss_frep: 100\n",
            "write_loss_frep_eval: 100\n",
            "-------------- End ----------------\n",
            "/usr/local/lib/python3.10/dist-packages/torch/utils/data/dataloader.py:558: UserWarning: This DataLoader will create 4 worker processes in total. Our suggested max number of worker in current system is 2, which is smaller than what this DataLoader is going to create. Please be aware that excessive worker creation might get DataLoader running slow or even freeze, lower the worker number to avoid potential slowness/freeze if necessary.\n",
            "  warnings.warn(_create_warning_msg(\n",
            "  0% 0/1 [00:00<?, ?it/s]\n",
            "[rank0]: Traceback (most recent call last):\n",
            "[rank0]:   File \"/content/GP-VTON/test_tryon.py\", line 49, in <module>\n",
            "[rank0]:     for data in tqdm(train_loader):\n",
            "[rank0]:   File \"/usr/local/lib/python3.10/dist-packages/tqdm/std.py\", line 1181, in __iter__\n",
            "[rank0]:     for obj in iterable:\n",
            "[rank0]:   File \"/usr/local/lib/python3.10/dist-packages/torch/utils/data/dataloader.py\", line 631, in __next__\n",
            "[rank0]:     data = self._next_data()\n",
            "[rank0]:   File \"/usr/local/lib/python3.10/dist-packages/torch/utils/data/dataloader.py\", line 1346, in _next_data\n",
            "[rank0]:     return self._process_data(data)\n",
            "[rank0]:   File \"/usr/local/lib/python3.10/dist-packages/torch/utils/data/dataloader.py\", line 1372, in _process_data\n",
            "[rank0]:     data.reraise()\n",
            "[rank0]:   File \"/usr/local/lib/python3.10/dist-packages/torch/_utils.py\", line 705, in reraise\n",
            "[rank0]:     raise exception\n",
            "[rank0]: FileNotFoundError: Caught FileNotFoundError in DataLoader worker process 0.\n",
            "[rank0]: Original Traceback (most recent call last):\n",
            "[rank0]:   File \"/usr/local/lib/python3.10/dist-packages/torch/utils/data/_utils/worker.py\", line 308, in _worker_loop\n",
            "[rank0]:     data = fetcher.fetch(index)  # type: ignore[possibly-undefined]\n",
            "[rank0]:   File \"/usr/local/lib/python3.10/dist-packages/torch/utils/data/_utils/fetch.py\", line 51, in fetch\n",
            "[rank0]:     data = [self.dataset[idx] for idx in possibly_batched_index]\n",
            "[rank0]:   File \"/usr/local/lib/python3.10/dist-packages/torch/utils/data/_utils/fetch.py\", line 51, in <listcomp>\n",
            "[rank0]:     data = [self.dataset[idx] for idx in possibly_batched_index]\n",
            "[rank0]:   File \"/content/GP-VTON/data/aligned_dataset_vitonhd.py\", line 174, in __getitem__\n",
            "[rank0]:     with open(pose_path, 'r') as f:\n",
            "[rank0]: FileNotFoundError: [Errno 2] No such file or directory: '/content/GP-VTON/dataroot/test/openpose_json/03921_00_keypoints.json'\n",
            "\n",
            "E0528 12:06:35.974000 134555438071808 torch/distributed/elastic/multiprocessing/api.py:826] failed (exitcode: 1) local_rank: 0 (pid: 5469) of binary: /usr/bin/python3\n",
            "Traceback (most recent call last):\n",
            "  File \"/usr/local/bin/torchrun\", line 8, in <module>\n",
            "    sys.exit(main())\n",
            "  File \"/usr/local/lib/python3.10/dist-packages/torch/distributed/elastic/multiprocessing/errors/__init__.py\", line 347, in wrapper\n",
            "    return f(*args, **kwargs)\n",
            "  File \"/usr/local/lib/python3.10/dist-packages/torch/distributed/run.py\", line 879, in main\n",
            "    run(args)\n",
            "  File \"/usr/local/lib/python3.10/dist-packages/torch/distributed/run.py\", line 870, in run\n",
            "    elastic_launch(\n",
            "  File \"/usr/local/lib/python3.10/dist-packages/torch/distributed/launcher/api.py\", line 132, in __call__\n",
            "    return launch_agent(self._config, self._entrypoint, list(args))\n",
            "  File \"/usr/local/lib/python3.10/dist-packages/torch/distributed/launcher/api.py\", line 263, in launch_agent\n",
            "    raise ChildFailedError(\n",
            "torch.distributed.elastic.multiprocessing.errors.ChildFailedError: \n",
            "============================================================\n",
            "test_tryon.py FAILED\n",
            "------------------------------------------------------------\n",
            "Failures:\n",
            "  <NO_OTHER_FAILURES>\n",
            "------------------------------------------------------------\n",
            "Root Cause (first observed failure):\n",
            "[0]:\n",
            "  time      : 2024-05-28_12:06:35\n",
            "  host      : 13302a851006\n",
            "  rank      : 0 (local_rank: 0)\n",
            "  exitcode  : 1 (pid: 5469)\n",
            "  error_file: <N/A>\n",
            "  traceback : To enable traceback see: https://pytorch.org/docs/stable/elastic/errors.html\n",
            "============================================================\n"
          ]
        }
      ]
    }
  ]
}